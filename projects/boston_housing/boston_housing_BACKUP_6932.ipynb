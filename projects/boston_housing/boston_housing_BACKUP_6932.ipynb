{
 "cells": [
  {
   "cell_type": "markdown",
   "metadata": {},
   "source": [
    "# Machine Learning Engineer Nanodegree\n",
    "## Model Evaluation & Validation\n",
    "## Project: Predicting Boston Housing Prices\n",
    "\n",
    "Welcome to the first project of the Machine Learning Engineer Nanodegree! In this notebook, some template code has already been provided for you, and you will need to implement additional functionality to successfully complete this project. You will not need to modify the included code beyond what is requested. Sections that begin with **'Implementation'** in the header indicate that the following block of code will require additional functionality which you must provide. Instructions will be provided for each section and the specifics of the implementation are marked in the code block with a 'TODO' statement. Please be sure to read the instructions carefully!\n",
    "\n",
    "In addition to implementing code, there will be questions that you must answer which relate to the project and your implementation. Each section where you will answer a question is preceded by a **'Question X'** header. Carefully read each question and provide thorough answers in the following text boxes that begin with **'Answer:'**. Your project submission will be evaluated based on your answers to each of the questions and the implementation you provide.  \n",
    "\n",
    ">**Note:** Code and Markdown cells can be executed using the **Shift + Enter** keyboard shortcut. In addition, Markdown cells can be edited by typically double-clicking the cell to enter edit mode."
   ]
  },
  {
   "cell_type": "markdown",
   "metadata": {},
   "source": [
    "## Getting Started\n",
    "In this project, you will evaluate the performance and predictive power of a model that has been trained and tested on data collected from homes in suburbs of Boston, Massachusetts. A model trained on this data that is seen as a *good fit* could then be used to make certain predictions about a home — in particular, its monetary value. This model would prove to be invaluable for someone like a real estate agent who could make use of such information on a daily basis.\n",
    "\n",
    "The dataset for this project originates from the [UCI Machine Learning Repository](https://archive.ics.uci.edu/ml/datasets/Housing). The Boston housing data was collected in 1978 and each of the 506 entries represent aggregated data about 14 features for homes from various suburbs in Boston, Massachusetts. For the purposes of this project, the following preprocessing steps have been made to the dataset:\n",
    "- 16 data points have an `'MEDV'` value of 50.0. These data points likely contain **missing or censored values** and have been removed.\n",
    "- 1 data point has an `'RM'` value of 8.78. This data point can be considered an **outlier** and has been removed.\n",
    "- The features `'RM'`, `'LSTAT'`, `'PTRATIO'`, and `'MEDV'` are essential. The remaining **non-relevant features** have been excluded.\n",
    "- The feature `'MEDV'` has been **multiplicatively scaled** to account for 35 years of market inflation.\n",
    "\n",
    "Run the code cell below to load the Boston housing dataset, along with a few of the necessary Python libraries required for this project. You will know the dataset loaded successfully if the size of the dataset is reported."
   ]
  },
  {
   "cell_type": "code",
<<<<<<< HEAD
   "execution_count": 1,
   "metadata": {},
   "outputs": [
    {
     "name": "stdout",
     "output_type": "stream",
     "text": [
      "Boston housing dataset has 489 data points with 4 variables each.\n"
     ]
    }
   ],
=======
   "execution_count": null,
   "metadata": {
    "collapsed": true
   },
   "outputs": [],
>>>>>>> upstream/master
   "source": [
    "# Import libraries necessary for this project\n",
    "import numpy as np\n",
    "import pandas as pd\n",
    "from sklearn.cross_validation import ShuffleSplit\n",
    "\n",
    "# Import supplementary visualizations code visuals.py\n",
    "import visuals as vs\n",
    "\n",
    "# Pretty display for notebooks\n",
    "%matplotlib inline\n",
    "\n",
    "# Load the Boston housing dataset\n",
    "data = pd.read_csv('housing.csv')\n",
    "prices = data['MEDV']\n",
    "features = data.drop('MEDV', axis = 1)\n",
    "    \n",
    "# Success\n",
    "print(\"Boston housing dataset has {} data points with {} variables each.\".format(*data.shape))"
   ]
  },
  {
   "cell_type": "markdown",
   "metadata": {},
   "source": [
    "## Data Exploration\n",
    "In this first section of this project, you will make a cursory investigation about the Boston housing data and provide your observations. Familiarizing yourself with the data through an explorative process is a fundamental practice to help you better understand and justify your results.\n",
    "\n",
    "Since the main goal of this project is to construct a working model which has the capability of predicting the value of houses, we will need to separate the dataset into **features** and the **target variable**. The **features**, `'RM'`, `'LSTAT'`, and `'PTRATIO'`, give us quantitative information about each data point. The **target variable**, `'MEDV'`, will be the variable we seek to predict. These are stored in `features` and `prices`, respectively."
   ]
  },
  {
   "cell_type": "markdown",
   "metadata": {},
   "source": [
    "### Implementation: Calculate Statistics\n",
    "For your very first coding implementation, you will calculate descriptive statistics about the Boston housing prices. Since `numpy` has already been imported for you, use this library to perform the necessary calculations. These statistics will be extremely important later on to analyze various prediction results from the constructed model.\n",
    "\n",
    "In the code cell below, you will need to implement the following:\n",
    "- Calculate the minimum, maximum, mean, median, and standard deviation of `'MEDV'`, which is stored in `prices`.\n",
    "  - Store each calculation in their respective variable."
   ]
  },
  {
   "cell_type": "code",
<<<<<<< HEAD
   "execution_count": 2,
   "metadata": {},
   "outputs": [
    {
     "name": "stdout",
     "output_type": "stream",
     "text": [
      "Statistics for Boston housing dataset:\n",
      "\n",
      "Minimum price: $105,000.00\n",
      "Maximum price: $1,024,800.00\n",
      "Mean price: $454,342.94\n",
      "Median price $438,900.00\n",
      "Standard deviation of prices: $165,171.13\n"
     ]
    }
   ],
   "source": [
    "npPrices = np.array(prices)\n",
    "\n",
=======
   "execution_count": null,
   "metadata": {
    "collapsed": true
   },
   "outputs": [],
   "source": [
>>>>>>> upstream/master
    "# TODO: Minimum price of the data\n",
    "minimum_price = npPrices.min()\n",
    "\n",
    "# TODO: Maximum price of the data\n",
    "maximum_price = npPrices.max()\n",
    "\n",
    "# TODO: Mean price of the data\n",
    "mean_price = npPrices.mean()\n",
    "\n",
    "# TODO: Median price of the data\n",
    "median_price = np.median(npPrices)\n",
    "\n",
    "# TODO: Standard deviation of prices of the data\n",
    "std_price = npPrices.std()\n",
    "\n",
    "# Show the calculated statistics\n",
    "print(\"Statistics for Boston housing dataset:\\n\")\n",
    "print(\"Minimum price: ${:,.2f}\".format(minimum_price))\n",
    "print(\"Maximum price: ${:,.2f}\".format(maximum_price))\n",
    "print(\"Mean price: ${:,.2f}\".format(mean_price))\n",
    "print(\"Median price ${:,.2f}\".format(median_price))\n",
    "print(\"Standard deviation of prices: ${:,.2f}\".format(std_price))"
   ]
  },
  {
   "cell_type": "markdown",
   "metadata": {},
   "source": [
    "### Question 1 - Feature Observation\n",
    "As a reminder, we are using three features from the Boston housing dataset: `'RM'`, `'LSTAT'`, and `'PTRATIO'`. For each data point (neighborhood):\n",
    "- `'RM'` is the average number of rooms among homes in the neighborhood.\n",
    "- `'LSTAT'` is the percentage of homeowners in the neighborhood considered \"lower class\" (working poor).\n",
    "- `'PTRATIO'` is the ratio of students to teachers in primary and secondary schools in the neighborhood.\n",
    "\n",
    "\n",
    "** Using your intuition, for each of the three features above, do you think that an increase in the value of that feature would lead to an **increase** in the value of `'MEDV'` or a **decrease** in the value of `'MEDV'`? Justify your answer for each.**\n",
    "\n",
    "**Hint:** This problem can phrased using examples like below.  \n",
    "* Would you expect a home that has an `'RM'` value(number of rooms) of 6 be worth more or less than a home that has an `'RM'` value of 7?\n",
    "* Would you expect a neighborhood that has an `'LSTAT'` value(percent of lower class workers) of 15 have home prices be worth more or less than a neighborhood that has an `'LSTAT'` value of 20?\n",
    "* Would you expect a neighborhood that has an `'PTRATIO'` value(ratio of students to teachers) of 10 have home prices be worth more or less than a neighborhood that has an `'PTRATIO'` value of 15?"
   ]
  },
  {
   "cell_type": "markdown",
   "metadata": {},
   "source": [
    "**Answer: **\n",
    "Assuming MEDV to be the price of a property I would expect the following:\n",
    "\n",
    "- An increase in RM would increase the value of MEDV. This is because I would expect a higher ammount of rooms to increase the property value.\n",
    "- An increase in LSTAT would decrease the value of MEDV. This is because I would expect lower class to have lower buying power so the property value would be low\n",
    "- An increase in PTRATIO (students / teachers) would decrease the value of MEDV. Though I believe this would not have much influence I would expect that a high number of students to indicate public education (as opposed to private). Also, the higher the ratio the more crowded education is which is normally associated with poorer areas and therefore, the lower the value of property."
   ]
  },
  {
   "cell_type": "markdown",
   "metadata": {},
   "source": [
    "----\n",
    "\n",
    "## Developing a Model\n",
    "In this second section of the project, you will develop the tools and techniques necessary for a model to make a prediction. Being able to make accurate evaluations of each model's performance through the use of these tools and techniques helps to greatly reinforce the confidence in your predictions."
   ]
  },
  {
   "cell_type": "markdown",
   "metadata": {},
   "source": [
    "### Implementation: Define a Performance Metric\n",
    "It is difficult to measure the quality of a given model without quantifying its performance over training and testing. This is typically done using some type of performance metric, whether it is through calculating some type of error, the goodness of fit, or some other useful measurement. For this project, you will be calculating the [*coefficient of determination*](http://stattrek.com/statistics/dictionary.aspx?definition=coefficient_of_determination), R<sup>2</sup>, to quantify your model's performance. The coefficient of determination for a model is a useful statistic in regression analysis, as it often describes how \"good\" that model is at making predictions. \n",
    "\n",
    "The values for R<sup>2</sup> range from 0 to 1, which captures the percentage of squared correlation between the predicted and actual values of the **target variable**. A model with an R<sup>2</sup> of 0 is no better than a model that always predicts the *mean* of the target variable, whereas a model with an R<sup>2</sup> of 1 perfectly predicts the target variable. Any value between 0 and 1 indicates what percentage of the target variable, using this model, can be explained by the **features**. _A model can be given a negative R<sup>2</sup> as well, which indicates that the model is **arbitrarily worse** than one that always predicts the mean of the target variable._\n",
    "\n",
    "For the `performance_metric` function in the code cell below, you will need to implement the following:\n",
    "- Use `r2_score` from `sklearn.metrics` to perform a performance calculation between `y_true` and `y_predict`.\n",
    "- Assign the performance score to the `score` variable."
   ]
  },
  {
   "cell_type": "code",
<<<<<<< HEAD
   "execution_count": 3,
=======
   "execution_count": null,
>>>>>>> upstream/master
   "metadata": {
    "collapsed": true
   },
   "outputs": [],
   "source": [
    "from sklearn.metrics import r2_score\n",
    "\n",
    "def performance_metric(y_true, y_predict):\n",
    "    \"\"\" Calculates and returns the performance score between \n",
    "        true and predicted values based on the metric chosen. \"\"\"\n",
    "    \n",
    "    # TODO: Calculate the performance score between 'y_true' and 'y_predict'\n",
    "    score = r2_score(y_true, y_predict)\n",
    "    \n",
    "    # Return the score\n",
    "    return score"
   ]
  },
  {
   "cell_type": "markdown",
   "metadata": {},
   "source": [
    "### Question 2 - Goodness of Fit\n",
    "Assume that a dataset contains five data points and a model made the following predictions for the target variable:\n",
    "\n",
    "| True Value | Prediction |\n",
    "| :-------------: | :--------: |\n",
    "| 3.0 | 2.5 |\n",
    "| -0.5 | 0.0 |\n",
    "| 2.0 | 2.1 |\n",
    "| 7.0 | 7.8 |\n",
    "| 4.2 | 5.3 |\n",
    "\n",
    "Run the code cell below to use the `performance_metric` function and calculate this model's coefficient of determination."
   ]
  },
  {
   "cell_type": "code",
<<<<<<< HEAD
   "execution_count": 4,
   "metadata": {},
   "outputs": [
    {
     "name": "stdout",
     "output_type": "stream",
     "text": [
      "Model has a coefficient of determination, R^2, of 0.923.\n"
     ]
    }
   ],
=======
   "execution_count": null,
   "metadata": {
    "collapsed": true
   },
   "outputs": [],
>>>>>>> upstream/master
   "source": [
    "# Calculate the performance of this model\n",
    "score = performance_metric([3, -0.5, 2, 7, 4.2], [2.5, 0.0, 2.1, 7.8, 5.3])\n",
    "print(\"Model has a coefficient of determination, R^2, of {:.3f}.\".format(score))"
   ]
  },
  {
   "cell_type": "markdown",
   "metadata": {},
   "source": [
<<<<<<< HEAD
    "**Answer:** Model has a coefficient of determination, R^2, of 0.923. Since the value range for this coeficient is between 0 and 1 where 1 means the model perfecltly fits the data, a value of 0.923 signals a fairly high fitting performance for this model. Thus I would consider this model to have successfully captured the variation of the target variable."
=======
    "* Would you consider this model to have successfully captured the variation of the target variable? \n",
    "* Why or why not?\n",
    "\n",
    "** Hint: **  The R2 score is the proportion of the variance in the dependent variable that is predictable from the independent variable. In other words:\n",
    "* R2 score of 0 means that the dependent variable cannot be predicted from the independent variable.\n",
    "* R2 score of 1 means the dependent variable can be predicted from the independent variable.\n",
    "* R2 score between 0 and 1 indicates the extent to which the dependent variable is predictable. An \n",
    "* R2 score of 0.40 means that 40 percent of the variance in Y is predictable from X."
   ]
  },
  {
   "cell_type": "markdown",
   "metadata": {},
   "source": [
    "**Answer:**"
>>>>>>> upstream/master
   ]
  },
  {
   "cell_type": "markdown",
   "metadata": {},
   "source": [
    "### Implementation: Shuffle and Split Data\n",
    "Your next implementation requires that you take the Boston housing dataset and split the data into training and testing subsets. Typically, the data is also shuffled into a random order when creating the training and testing subsets to remove any bias in the ordering of the dataset.\n",
    "\n",
    "For the code cell below, you will need to implement the following:\n",
    "- Use `train_test_split` from `sklearn.cross_validation` to shuffle and split the `features` and `prices` data into training and testing sets.\n",
    "  - Split the data into 80% training and 20% testing.\n",
    "  - Set the `random_state` for `train_test_split` to a value of your choice. This ensures results are consistent.\n",
    "- Assign the train and testing splits to `X_train`, `X_test`, `y_train`, and `y_test`."
   ]
  },
  {
   "cell_type": "code",
<<<<<<< HEAD
   "execution_count": 5,
   "metadata": {},
   "outputs": [
    {
     "name": "stdout",
     "output_type": "stream",
     "text": [
      "Training and testing split was successful.\n"
     ]
    }
   ],
=======
   "execution_count": null,
   "metadata": {
    "collapsed": true
   },
   "outputs": [],
>>>>>>> upstream/master
   "source": [
    "from sklearn.cross_validation import train_test_split\n",
    "\n",
    "X_train, X_test, y_train, y_test = train_test_split(features, prices, random_state=42, test_size=0.2)\n",
    "\n",
    "# Success\n",
    "print(\"Training and testing split was successful.\")"
   ]
  },
  {
   "cell_type": "markdown",
   "metadata": {},
   "source": [
    "### Question 3 - Training and Testing\n",
    "\n",
    "* What is the benefit to splitting a dataset into some ratio of training and testing subsets for a learning algorithm?\n",
    "\n",
    "**Hint:** Think about how overfitting or underfitting is contingent upon how splits on data is done."
   ]
  },
  {
   "cell_type": "markdown",
   "metadata": {},
   "source": [
    "**Answer: **\n",
    "Having the training and testing subsets independent of each other allows us to test the model using data the model was not trained into. In turn, this allows us to see how well the model generalizes to inputs other than the ones it was trained with."
   ]
  },
  {
   "cell_type": "markdown",
   "metadata": {},
   "source": [
    "----\n",
    "\n",
    "## Analyzing Model Performance\n",
    "In this third section of the project, you'll take a look at several models' learning and testing performances on various subsets of training data. Additionally, you'll investigate one particular algorithm with an increasing `'max_depth'` parameter on the full training set to observe how model complexity affects performance. Graphing your model's performance based on varying criteria can be beneficial in the analysis process, such as visualizing behavior that may not have been apparent from the results alone."
   ]
  },
  {
   "cell_type": "markdown",
   "metadata": {},
   "source": [
    "### Learning Curves\n",
    "The following code cell produces four graphs for a decision tree model with different maximum depths. Each graph visualizes the learning curves of the model for both training and testing as the size of the training set is increased. Note that the shaded region of a learning curve denotes the uncertainty of that curve (measured as the standard deviation). The model is scored on both the training and testing sets using R<sup>2</sup>, the coefficient of determination.  \n",
    "\n",
    "Run the code cell below and use these graphs to answer the following question."
   ]
  },
  {
   "cell_type": "code",
   "execution_count": 6,
   "metadata": {
    "collapsed": true,
    "scrolled": false
   },
   "outputs": [
    {
     "data": {
      "image/png": "iVBORw0KGgoAAAANSUhEUgAAA1oAAAIKCAYAAAA6Wz7dAAAABHNCSVQICAgIfAhkiAAAAAlwSFlz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\n6QcFaAAAAABJRU5ErkJggg==\n",
      "text/plain": [
       "<matplotlib.figure.Figure at 0x4ac6be0>"
      ]
     },
     "metadata": {},
     "output_type": "display_data"
    }
   ],
   "source": [
    "# Produce learning curves for varying training set sizes and maximum depths\n",
    "vs.ModelLearning(features, prices)"
   ]
  },
  {
   "cell_type": "markdown",
   "metadata": {},
   "source": [
    "### Question 4 - Learning the Data\n",
    "* Choose one of the graphs above and state the maximum depth for the model. \n",
    "* What happens to the score of the training curve as more training points are added? What about the testing curve? \n",
    "* Would having more training points benefit the model? \n",
    "\n",
    "**Hint:** Are the learning curves converging to particular scores? Generally speaking, the more data you have, the better. But if your training and testing curves are converging with a score above your benchmark threshold, would this be necessary?\n",
    "Think about the pros and cons of adding more training points based on if the training and testing curves are converging."
   ]
  },
  {
   "cell_type": "markdown",
   "metadata": {},
   "source": [
    "**Answer: **\n",
    "max_depth = 3\n",
    "\n",
    " -*What happens to the score of the training curve as more training points are added? What about the testing curve?*\n",
    "    As we add more points the training curve decreases and slowly converges to 0.8. The testing curve increases and converges slowly to about 0.8 though a bit less then the training curve.\n",
    "\n",
    " -*Would having more training points benefit the model?*\n",
    "The number of training points does not seem to affect much of the score past 50/100 points. We can observe that below max_depth of 3 the model display high bias and as we add more depth past 3 the model starts suffering from high variance."
   ]
  },
  {
   "cell_type": "markdown",
   "metadata": {},
   "source": [
    "### Complexity Curves\n",
    "The following code cell produces a graph for a decision tree model that has been trained and validated on the training data using different maximum depths. The graph produces two complexity curves — one for training and one for validation. Similar to the **learning curves**, the shaded regions of both the complexity curves denote the uncertainty in those curves, and the model is scored on both the training and validation sets using the `performance_metric` function.  \n",
    "\n",
    "** Run the code cell below and use this graph to answer the following two questions Q5 and Q6. **"
   ]
  },
  {
   "cell_type": "code",
<<<<<<< HEAD
   "execution_count": 7,
   "metadata": {},
   "outputs": [
    {
     "data": {
      "image/png": "iVBORw0KGgoAAAANSUhEUgAAAb4AAAFRCAYAAAALn8i+AAAABHNCSVQICAgIfAhkiAAAAAlwSFlz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\n06FY4jPGGNOh/H8rDKm3Ajm9AwAAAABJRU5ErkJggg==\n",
      "text/plain": [
       "<matplotlib.figure.Figure at 0x1d131048>"
      ]
     },
     "metadata": {},
     "output_type": "display_data"
    }
   ],
=======
   "execution_count": null,
   "metadata": {
    "collapsed": true
   },
   "outputs": [],
>>>>>>> upstream/master
   "source": [
    "vs.ModelComplexity(X_train, y_train)"
   ]
  },
  {
   "cell_type": "markdown",
   "metadata": {},
   "source": [
    "### Question 5 - Bias-Variance Tradeoff\n",
    "* When the model is trained with a maximum depth of 1, does the model suffer from high bias or from high variance? \n",
    "* How about when the model is trained with a maximum depth of 10? What visual cues in the graph justify your conclusions?\n",
    "\n",
    "**Hint:** High bias is a sign of underfitting(model is not complex enough to pick up the nuances in the data) and high variance is a sign of overfitting(model is by-hearting the data and cannot generalize well). Think about which model(depth 1 or 10) aligns with which part of the tradeoff."
   ]
  },
  {
   "cell_type": "markdown",
   "metadata": {},
   "source": [
    "**Answer: **\n",
    "With max_depth 1 the model displays high bias (underfitting) while at max_depth=10 it suffers from high variance (overfitting). \n",
    "\n",
    "High variance is easy to detect, models that have a high score on the training set but a low score on the validation will usuallu suffer from overfitting (high variance). In the graph above for max_depth=10 the training score is very close to perfect while the validation score sits at about 0.65.\n",
    "\n",
    "High bias is usually identified when both the score of the training set and validation set are poor in comparison to other runs. In the graph above we see that both the training and valication score for max_depth=1 is significantly worse then at max_depth=2, thus indicating that at max_depth=1 the model suffers from underfitting (high bias)."
   ]
  },
  {
   "cell_type": "markdown",
   "metadata": {},
   "source": [
    "### Question 6 - Best-Guess Optimal Model\n",
    "* Which maximum depth do you think results in a model that best generalizes to unseen data? \n",
    "* What intuition lead you to this answer?\n",
    "\n",
    "** Hint: ** Look at the graph above Question 5 and see where the validation scores lie for the various depths that have been assigned to the model. Does it get better with increased depth? At what point do we get our best validation score without overcomplicating our model? And remember, Occams Razor states \"Among competing hypotheses, the one with the fewest assumptions should be selected.\""
   ]
  },
  {
   "cell_type": "markdown",
   "metadata": {},
   "source": [
    "**Answer: **\n",
    "The best model seems to be the one that was trained with max_depth=3. At this point we seem to acheive the best generalization ability of the model by having a high score on the validation set, with a low uncertainty and a similar training score."
   ]
  },
  {
   "cell_type": "markdown",
   "metadata": {},
   "source": [
    "-----\n",
    "\n",
    "## Evaluating Model Performance\n",
    "In this final section of the project, you will construct a model and make a prediction on the client's feature set using an optimized model from `fit_model`."
   ]
  },
  {
   "cell_type": "markdown",
   "metadata": {},
   "source": [
    "### Question 7 - Grid Search\n",
    "* What is the grid search technique?\n",
    "* How it can be applied to optimize a learning algorithm?\n",
    "\n",
    "** Hint: ** When explaining the Grid Search technique, be sure to touch upon why it is used,  what the 'grid' entails and what the end goal of this method is. To solidify your answer, you can also give an example of a parameter in a model that can be optimized using this approach."
   ]
  },
  {
   "cell_type": "markdown",
   "metadata": {},
   "source": [
    "**Answer: **\n",
    "The grid search technique consists of training and testing models with different hyper-parameters. The grid dimention is defined by the number of hyper parameters. By picking the best model in the grid (best combination of hyper parameters) you are optimizing the learning algorithm."
   ]
  },
  {
   "cell_type": "markdown",
   "metadata": {},
   "source": [
    "### Question 8 - Cross-Validation\n",
    "\n",
    "* What is the k-fold cross-validation training technique? \n",
    "\n",
    "* What benefit does this technique provide for grid search when optimizing a model?\n",
    "\n",
    "**Hint:** When explaining the k-fold cross validation technique, be sure to touch upon what 'k' is, how the dataset is split into different parts for training and testing and the number of times it is run based on the 'k' value.\n",
    "\n",
    "When thinking about how k-fold cross validation helps grid search, think about the main drawbacks of grid search which are hinged upon **using a particular subset of data for training or testing** and how k-fold cv could help alleviate that. You can refer to the [docs](http://scikit-learn.org/stable/modules/cross_validation.html#cross-validation) for your answer."
   ]
  },
  {
   "cell_type": "markdown",
   "metadata": {},
   "source": [
    "**Answer: **\n",
    "The k-fold cross-validation consists of splitting the data into k parts called folds. The for one iteration we pick a single fold to be used as validation and the remaining for training. Then we repeat this process k times where we pick a different fold for validation. The overall result is then averaged over the k trainings. The reason we would want to apply this technique to grid search would be to get a better result out of our grid search.\n",
    "\n",
    "If we don't use cross-validation on our grid search we run the risk of overfitting our model on each hyperparameter combination and skew the results."
   ]
  },
  {
   "cell_type": "markdown",
   "metadata": {},
   "source": [
    "### Implementation: Fitting a Model\n",
    "Your final implementation requires that you bring everything together and train a model using the **decision tree algorithm**. To ensure that you are producing an optimized model, you will train the model using the grid search technique to optimize the `'max_depth'` parameter for the decision tree. The `'max_depth'` parameter can be thought of as how many questions the decision tree algorithm is allowed to ask about the data before making a prediction. Decision trees are part of a class of algorithms called *supervised learning algorithms*.\n",
    "\n",
    "In addition, you will find your implementation is using `ShuffleSplit()` for an alternative form of cross-validation (see the `'cv_sets'` variable). While it is not the K-Fold cross-validation technique you describe in **Question 8**, this type of cross-validation technique is just as useful!. The `ShuffleSplit()` implementation below will create 10 (`'n_splits'`) shuffled sets, and for each shuffle, 20% (`'test_size'`) of the data will be used as the *validation set*. While you're working on your implementation, think about the contrasts and similarities it has to the K-fold cross-validation technique.\n",
    "\n",
    "Please note that ShuffleSplit has different parameters in scikit-learn versions 0.17 and 0.18.\n",
    "For the `fit_model` function in the code cell below, you will need to implement the following:\n",
    "- Use [`DecisionTreeRegressor`](http://scikit-learn.org/stable/modules/generated/sklearn.tree.DecisionTreeRegressor.html) from `sklearn.tree` to create a decision tree regressor object.\n",
    "  - Assign this object to the `'regressor'` variable.\n",
    "- Create a dictionary for `'max_depth'` with the values from 1 to 10, and assign this to the `'params'` variable.\n",
    "- Use [`make_scorer`](http://scikit-learn.org/stable/modules/generated/sklearn.metrics.make_scorer.html) from `sklearn.metrics` to create a scoring function object.\n",
    "  - Pass the `performance_metric` function as a parameter to the object.\n",
    "  - Assign this scoring function to the `'scoring_fnc'` variable.\n",
    "- Use [`GridSearchCV`](http://scikit-learn.org/0.17/modules/generated/sklearn.grid_search.GridSearchCV.html) from `sklearn.grid_search` to create a grid search object.\n",
    "  - Pass the variables `'regressor'`, `'params'`, `'scoring_fnc'`, and `'cv_sets'` as parameters to the object. \n",
    "  - Assign the `GridSearchCV` object to the `'grid'` variable."
   ]
  },
  {
   "cell_type": "code",
<<<<<<< HEAD
   "execution_count": 8,
=======
   "execution_count": null,
>>>>>>> upstream/master
   "metadata": {
    "collapsed": true
   },
   "outputs": [],
   "source": [
    "# TODO: Import 'make_scorer', 'DecisionTreeRegressor', and 'GridSearchCV'\n",
    "from sklearn.metrics import make_scorer\n",
    "from sklearn.tree import DecisionTreeRegressor\n",
    "from sklearn import grid_search\n",
    "\n",
    "def fit_model(X, y):\n",
    "    \"\"\" Performs grid search over the 'max_depth' parameter for a \n",
    "        decision tree regressor trained on the input data [X, y]. \"\"\"\n",
    "    \n",
    "    # Create cross-validation sets from the training data\n",
    "    # sklearn version 0.18: ShuffleSplit(n_splits=10, test_size=0.1, train_size=None, random_state=None)\n",
    "    # sklearn versiin 0.17: ShuffleSplit(n, n_iter=10, test_size=0.1, train_size=None, random_state=None)\n",
    "    cv_sets = ShuffleSplit(X.shape[0], n_iter = 10, test_size = 0.20, random_state = 0)\n",
    "\n",
    "    # TODO: Create a decision tree regressor object\n",
    "    regressor = DecisionTreeRegressor(random_state=0)\n",
    "\n",
    "    # TODO: Create a dictionary for the parameter 'max_depth' with a range from 1 to 10\n",
    "    params = { 'max_depth' : range(1, 11)}\n",
    "\n",
    "    # TODO: Transform 'performance_metric' into a scoring function using 'make_scorer' \n",
    "    scoring_fnc = make_scorer(performance_metric)\n",
    "\n",
<<<<<<< HEAD
    "    # TODO: Create the grid search object\n",
    "    grid = grid_search.GridSearchCV(regressor, params, scoring=scoring_fnc, cv=cv_sets)\n",
=======
    "    # TODO: Create the grid search cv object --> GridSearchCV()\n",
    "    # Make sure to include the right parameters in the object:\n",
    "    # (estimator, param_grid, scoring, cv) which have values 'regressor', 'params', 'scoring_fnc', and 'cv_sets' respectively.\n",
    "    grid = None\n",
>>>>>>> upstream/master
    "\n",
    "    # Fit the grid search object to the data to compute the optimal model\n",
    "    grid = grid.fit(X, y)\n",
    "\n",
    "    # Return the optimal model after fitting the data\n",
    "    return grid.best_estimator_"
   ]
  },
  {
   "cell_type": "markdown",
   "metadata": {},
   "source": [
    "### Making Predictions\n",
    "Once a model has been trained on a given set of data, it can now be used to make predictions on new sets of input data. In the case of a *decision tree regressor*, the model has learned *what the best questions to ask about the input data are*, and can respond with a prediction for the **target variable**. You can use these predictions to gain information about data where the value of the target variable is unknown — such as data the model was not trained on."
   ]
  },
  {
   "cell_type": "markdown",
   "metadata": {},
   "source": [
    "### Question 9 - Optimal Model\n",
    "\n",
    "* What maximum depth does the optimal model have? How does this result compare to your guess in **Question 6**?  \n",
    "\n",
    "Run the code block below to fit the decision tree regressor to the training data and produce an optimal model."
   ]
  },
  {
   "cell_type": "code",
   "execution_count": 9,
   "metadata": {
    "collapsed": true,
    "scrolled": true
   },
   "outputs": [
    {
     "name": "stdout",
     "output_type": "stream",
     "text": [
      "Parameter 'max_depth' is 4 for the optimal model.\n"
     ]
    }
   ],
   "source": [
    "# Fit the training data to the model using grid search\n",
    "reg = fit_model(X_train, y_train)\n",
    "\n",
    "# Produce the value for 'max_depth'\n",
    "print (\"Parameter 'max_depth' is {} for the optimal model.\".format(reg.get_params()['max_depth']))"
   ]
  },
  {
   "cell_type": "markdown",
   "metadata": {},
   "source": [
<<<<<<< HEAD
    "**Answer: **\n",
    "The optimal model is obtained when using a max_depth of 4. Before, I believed it to be 3 which was the best out of the range displayed which is fairly close to 4."
=======
    "** Hint: ** The answer comes from the output of the code snipped above.\n",
    "\n",
    "**Answer: **"
>>>>>>> upstream/master
   ]
  },
  {
   "cell_type": "markdown",
   "metadata": {},
   "source": [
    "### Question 10 - Predicting Selling Prices\n",
    "Imagine that you were a real estate agent in the Boston area looking to use this model to help price homes owned by your clients that they wish to sell. You have collected the following information from three of your clients:\n",
    "\n",
    "| Feature | Client 1 | Client 2 | Client 3 |\n",
    "| :---: | :---: | :---: | :---: |\n",
    "| Total number of rooms in home | 5 rooms | 4 rooms | 8 rooms |\n",
    "| Neighborhood poverty level (as %) | 17% | 32% | 3% |\n",
    "| Student-teacher ratio of nearby schools | 15-to-1 | 22-to-1 | 12-to-1 |\n",
    "\n",
    "* What price would you recommend each client sell his/her home at? \n",
    "* Do these prices seem reasonable given the values for the respective features? \n",
    "\n",
    "**Hint:** Use the statistics you calculated in the **Data Exploration** section to help justify your response.  Of the three clients, client 3 has has the biggest house, in the best public school neighborhood with the lowest poverty level; while client 2 has the smallest house, in a neighborhood with a relatively high poverty rate and not the best public schools.\n",
    "\n",
    "Run the code block below to have your optimized model make predictions for each client's home."
   ]
  },
  {
   "cell_type": "code",
<<<<<<< HEAD
   "execution_count": 10,
   "metadata": {},
   "outputs": [
    {
     "name": "stdout",
     "output_type": "stream",
     "text": [
      "Predicted selling price for Client 1's home: $403,025.00\n",
      "Predicted selling price for Client 2's home: $237,478.72\n",
      "Predicted selling price for Client 3's home: $931,636.36\n"
     ]
    }
   ],
=======
   "execution_count": null,
   "metadata": {
    "collapsed": true
   },
   "outputs": [],
>>>>>>> upstream/master
   "source": [
    "# Produce a matrix for client data\n",
    "client_data = [[5, 17, 15], # Client 1\n",
    "               [4, 32, 22], # Client 2\n",
    "               [8, 3, 12]]  # Client 3\n",
    "\n",
    "# Show predictions\n",
    "for i, price in enumerate(reg.predict(client_data)):\n",
    "    print (\"Predicted selling price for Client {}'s home: ${:,.2f}\".format(i+1, price))"
   ]
  },
  {
   "cell_type": "markdown",
   "metadata": {},
   "source": [
    "**Answer: **\n",
    "- Predicted selling price for Client 1's home: 403,025.00\n",
    "- Predicted selling price for Client 2's home: 237,478.72\n",
    "- Predicted selling price for Client 3's home: 931,636.36\n",
    "\n",
    "-*Do these prices seem reasonable given the values for the respective features?*\n",
    "\n",
    "They do, as the size of the rooms increases and the Neighborhood poverty level decreases the prices increase, which is what I would expect. They also fit the previous calculated statistics where client 2 which has a small room with 1/3 of the neighborhood being poor has a suggest sale price close to the minimum. For the biggest room in an area with low poverty area the value of the house skyrockets though still bellow the maximum.\n",
    "Client 1 house seems to be the standard home and is thus priced at an average price."
   ]
  },
  {
   "cell_type": "markdown",
   "metadata": {},
   "source": [
    "### Sensitivity\n",
    "An optimal model is not necessarily a robust model. Sometimes, a model is either too complex or too simple to sufficiently generalize to new data. Sometimes, a model could use a learning algorithm that is not appropriate for the structure of the data given. Other times, the data itself could be too noisy or contain too few samples to allow a model to adequately capture the target variable — i.e., the model is underfitted. \n",
    "\n",
    "**Run the code cell below to run the `fit_model` function ten times with different training and testing sets to see how the prediction for a specific client changes with respect to the data it's trained on.**"
   ]
  },
  {
   "cell_type": "code",
<<<<<<< HEAD
   "execution_count": 11,
   "metadata": {},
   "outputs": [
    {
     "name": "stdout",
     "output_type": "stream",
     "text": [
      "Trial 1: $391,183.33\n",
      "Trial 2: $424,935.00\n",
      "Trial 3: $415,800.00\n",
      "Trial 4: $420,622.22\n",
      "Trial 5: $418,377.27\n",
      "Trial 6: $411,931.58\n",
      "Trial 7: $399,663.16\n",
      "Trial 8: $407,232.00\n",
      "Trial 9: $351,577.61\n",
      "Trial 10: $413,700.00\n",
      "\n",
      "Range in prices: $73,357.39\n"
     ]
    }
   ],
=======
   "execution_count": null,
   "metadata": {
    "collapsed": true
   },
   "outputs": [],
>>>>>>> upstream/master
   "source": [
    "vs.PredictTrials(features, prices, fit_model, client_data)"
   ]
  },
  {
   "cell_type": "markdown",
   "metadata": {},
   "source": [
    "### Question 11 - Applicability\n",
    "\n",
    "* In a few sentences, discuss whether the constructed model should or should not be used in a real-world setting.  \n",
    "\n",
    "**Hint:** Take a look at the range in prices as calculated in the code snippet above. Some questions to answering:\n",
    "- How relevant today is data that was collected from 1978? How important is inflation?\n",
    "- Are the features present in the data sufficient to describe a home? Do you think factors like quality of apppliances in the home, square feet of the plot area, presence of pool or not etc should factor in?\n",
    "- Is the model robust enough to make consistent predictions?\n",
    "- Would data collected in an urban city like Boston be applicable in a rural city?\n",
    "- Is it fair to judge the price of an individual home based on the characteristics of the entire neighborhood?"
   ]
  },
  {
   "cell_type": "markdown",
   "metadata": {},
   "source": [
    "**Answer: **\n",
    "I have to say, I was surprised to see the data that was used to train this model. I would've expected apartment/house square footage and area related features to play the biggest parts in determining the price. I do not believe these features would play an important part today (though I can see how it could work back then).\n",
    "\n",
    "Creating a model using up to date features could potentially be used in cities of similar sizes in the same country. I would not be surprised if relevant features would even vary from city to city. \n",
    "\n",
    "Regarding its aplicability I believe the model could be quite strong if used to predict house pricing within the same city though there might not be enough data to create a good model."
   ]
  },
  {
   "cell_type": "markdown",
   "metadata": {},
   "source": [
    "> **Note**: Once you have completed all of the code implementations and successfully answered each question above, you may finalize your work by exporting the iPython Notebook as an HTML document. You can do this by using the menu above and navigating to  \n",
    "**File -> Download as -> HTML (.html)**. Include the finished document along with this notebook as your submission."
   ]
  }
 ],
 "metadata": {
  "anaconda-cloud": {},
  "kernelspec": {
   "display_name": "Python 3",
   "language": "python",
   "name": "python3"
  },
  "language_info": {
   "codemirror_mode": {
    "name": "ipython",
    "version": 3
   },
   "file_extension": ".py",
   "mimetype": "text/x-python",
   "name": "python",
   "nbconvert_exporter": "python",
   "pygments_lexer": "ipython3",
   "version": "3.6.1"
  }
 },
 "nbformat": 4,
 "nbformat_minor": 1
}
